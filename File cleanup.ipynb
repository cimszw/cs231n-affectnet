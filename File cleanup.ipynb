{
 "cells": [
  {
   "cell_type": "code",
   "execution_count": 3,
   "metadata": {},
   "outputs": [],
   "source": [
    "import numpy as np\n",
    "import pandas as pd\n",
    "import os\n",
    "\n",
    "from PIL import Image\n",
    "from tflearn.data_utils import build_hdf5_image_dataset\n",
    "\n",
    "TRAIN = 'training.csv'\n",
    "#VAL = 'validation.csv'\n",
    "TRAIN_TRIM = 'training_trim.csv'\n",
    "\n",
    "#FULL_COLS = ['file_path','face_x','face_y','face_width','face_height','facial_landmarks','expression','valence','arousal']\n",
    "#TRIM_COLS = ['file_path', 'face_x', 'face_y', 'face_width', 'face_height', 'expression']\n",
    "\n",
    "#training = pd.read_csv(os.environ['HOME'] + '/' + TRAIN)\n",
    "#validation = pd.read_csv(VAL, names=FULL_COLS)\n",
    "\n",
    "#training.columns = FULL_COLS\n",
    "#training = training[TRIM_COLS]\n",
    "#training.to_csv(TRAIN_TRIM)\n",
    "\n",
    "#TRAIN_FILE = 'training_trim.csv'\n",
    "\n",
    "train = pd.read_csv(TRAIN_TRIM)\n",
    "#DATA_DIR = '/home/maxschorer/affectnet_data'\n",
    "# split into training and test"
   ]
  },
  {
   "cell_type": "code",
   "execution_count": 4,
   "metadata": {},
   "outputs": [],
   "source": [
    "#train.head()\n",
    "DATA_DIR = '/home/maxschorer/test'\n",
    "\n",
    "folders = train['file_path'].map(lambda x: x.split('/')[0])\n",
    "for folder in folders:\n",
    "    new_folder = DATA_DIR + '/' + folder\n",
    "    if os.path.exists(new_folder): continue\n",
    "    os.makedirs(new_folder)"
   ]
  },
  {
   "cell_type": "code",
   "execution_count": 5,
   "metadata": {},
   "outputs": [
    {
     "data": {
      "text/html": [
       "<div>\n",
       "<style scoped>\n",
       "    .dataframe tbody tr th:only-of-type {\n",
       "        vertical-align: middle;\n",
       "    }\n",
       "\n",
       "    .dataframe tbody tr th {\n",
       "        vertical-align: top;\n",
       "    }\n",
       "\n",
       "    .dataframe thead th {\n",
       "        text-align: right;\n",
       "    }\n",
       "</style>\n",
       "<table border=\"1\" class=\"dataframe\">\n",
       "  <thead>\n",
       "    <tr style=\"text-align: right;\">\n",
       "      <th></th>\n",
       "      <th>Unnamed: 0</th>\n",
       "      <th>file_path</th>\n",
       "      <th>face_x</th>\n",
       "      <th>face_y</th>\n",
       "      <th>face_width</th>\n",
       "      <th>face_height</th>\n",
       "      <th>expression</th>\n",
       "    </tr>\n",
       "  </thead>\n",
       "  <tbody>\n",
       "    <tr>\n",
       "      <th>0</th>\n",
       "      <td>0</td>\n",
       "      <td>689/737db2483489148d783ef278f43f486c0a97e140fc...</td>\n",
       "      <td>134.0</td>\n",
       "      <td>134.0</td>\n",
       "      <td>899</td>\n",
       "      <td>899</td>\n",
       "      <td>1</td>\n",
       "    </tr>\n",
       "    <tr>\n",
       "      <th>1</th>\n",
       "      <td>1</td>\n",
       "      <td>392/c4db2f9b7e4b422d14b6e038f0cdc3ecee239b5532...</td>\n",
       "      <td>20.0</td>\n",
       "      <td>20.0</td>\n",
       "      <td>137</td>\n",
       "      <td>137</td>\n",
       "      <td>0</td>\n",
       "    </tr>\n",
       "    <tr>\n",
       "      <th>2</th>\n",
       "      <td>2</td>\n",
       "      <td>468/21772b68dc8c2a11678c8739eca33adb6ccc658600...</td>\n",
       "      <td>11.0</td>\n",
       "      <td>11.0</td>\n",
       "      <td>176</td>\n",
       "      <td>176</td>\n",
       "      <td>0</td>\n",
       "    </tr>\n",
       "    <tr>\n",
       "      <th>3</th>\n",
       "      <td>3</td>\n",
       "      <td>944/06e9ae8d3b240eb68fa60534783eacafce2def60a8...</td>\n",
       "      <td>40.0</td>\n",
       "      <td>40.0</td>\n",
       "      <td>269</td>\n",
       "      <td>269</td>\n",
       "      <td>1</td>\n",
       "    </tr>\n",
       "    <tr>\n",
       "      <th>4</th>\n",
       "      <td>4</td>\n",
       "      <td>993/02e06ee5521958b4042dd73abb444220609d96f57b...</td>\n",
       "      <td>22.0</td>\n",
       "      <td>22.0</td>\n",
       "      <td>153</td>\n",
       "      <td>153</td>\n",
       "      <td>8</td>\n",
       "    </tr>\n",
       "  </tbody>\n",
       "</table>\n",
       "</div>"
      ],
      "text/plain": [
       "   Unnamed: 0                                          file_path  face_x  \\\n",
       "0           0  689/737db2483489148d783ef278f43f486c0a97e140fc...   134.0   \n",
       "1           1  392/c4db2f9b7e4b422d14b6e038f0cdc3ecee239b5532...    20.0   \n",
       "2           2  468/21772b68dc8c2a11678c8739eca33adb6ccc658600...    11.0   \n",
       "3           3  944/06e9ae8d3b240eb68fa60534783eacafce2def60a8...    40.0   \n",
       "4           4  993/02e06ee5521958b4042dd73abb444220609d96f57b...    22.0   \n",
       "\n",
       "   face_y  face_width  face_height  expression  \n",
       "0   134.0         899          899           1  \n",
       "1    20.0         137          137           0  \n",
       "2    11.0         176          176           0  \n",
       "3    40.0         269          269           1  \n",
       "4    22.0         153          153           8  "
      ]
     },
     "execution_count": 5,
     "metadata": {},
     "output_type": "execute_result"
    }
   ],
   "source": [
    "train.head()"
   ]
  },
  {
   "cell_type": "code",
   "execution_count": 6,
   "metadata": {},
   "outputs": [],
   "source": [
    "#create folders, move to \n",
    "DATA_DIR = '/home/maxschorer/test'\n",
    "#val = pd.read_csv('validation.csv')\n",
    "\n",
    "for idx, row in train.iterrows():\n",
    "    old_file_path = DATA_DIR + '/' + row['file_path'].split('/')[1]\n",
    "    if not os.path.isfile(old_file_path): continue\n",
    "    new_file_path = DATA_DIR + '/' + row['file_path']\n",
    "    os.rename(old_file_path, new_file_path)"
   ]
  },
  {
   "cell_type": "code",
   "execution_count": 11,
   "metadata": {},
   "outputs": [],
   "source": [
    "val_indexes = np.random.choice(train.shape[0], int(train.shape[0]/10), replace=False)"
   ]
  },
  {
   "cell_type": "code",
   "execution_count": 22,
   "metadata": {},
   "outputs": [
    {
     "name": "stdout",
     "output_type": "stream",
     "text": [
      "Unable to open /home/maxschorer/affectnet_data/103/29a31ebf1567693f4644c8ba3476ca9a72ee07fe67a5860d98707a0a.jpg\n"
     ]
    }
   ],
   "source": [
    "TRAIN_DATASET_FILE = 'train_dataset.txt'\n",
    "VAL_DATASET_FILE = 'val_dataset.txt'\n",
    "\n",
    "train_f = open(TRAIN_DATASET_FILE, 'w')\n",
    "val_f = open(VAL_DATASET_FILE, 'w')\n",
    "\n",
    "for idx, row in train.iterrows():\n",
    "    file_path = DATA_DIR + '/' + row['file_path']\n",
    "    if not os.path.isfile(file_path): continue\n",
    "    try:\n",
    "        Image.open(file_path)\n",
    "    except Exception as e:\n",
    "        print('Unable to open {}'.format(file_path))\n",
    "        continue\n",
    "    line_string = '{} {}\\n'.format(file_path, row['expression'])\n",
    "    if idx in val_indexes:\n",
    "        val_f.write(line_string)\n",
    "    else:\n",
    "        train_f.write(line_string)\n",
    "    # crop image\n",
    "    # write logic to toss out poorly formatted images\n",
    "\n",
    "train_f.close()\n",
    "val_f.close()"
   ]
  },
  {
   "cell_type": "code",
   "execution_count": 2,
   "metadata": {},
   "outputs": [
    {
     "name": "stdout",
     "output_type": "stream",
     "text": [
      "CPU times: user 21min 19s, sys: 1min 32s, total: 22min 51s\n",
      "Wall time: 1h 16min 22s\n"
     ]
    }
   ],
   "source": [
    "TRAIN_DATASET_FILE = 'train_dataset.txt'\n",
    "TRAIN_H5 = 'train.h5'\n",
    "IMG_SIZE = 256\n",
    "%time build_hdf5_image_dataset(TRAIN_DATASET_FILE, image_shape=(IMG_SIZE, IMG_SIZE), mode='file', output_path=TRAIN_H5, normalize=True, categorical_labels=True)"
   ]
  },
  {
   "cell_type": "code",
   "execution_count": 23,
   "metadata": {},
   "outputs": [
    {
     "name": "stdout",
     "output_type": "stream",
     "text": [
      "CPU times: user 2min 20s, sys: 9.33 s, total: 2min 30s\n",
      "Wall time: 5min 47s\n"
     ]
    }
   ],
   "source": [
    "VAL_H5 = 'val.h5'\n",
    "VAL_DATASET_FILE = 'val_dataset.txt'\n",
    "\n",
    "%time build_hdf5_image_dataset(VAL_DATASET_FILE, image_shape=(IMG_SIZE, IMG_SIZE), mode='file', output_path=VAL_H5, normalize=True, categorical_labels=True)"
   ]
  }
 ],
 "metadata": {
  "kernelspec": {
   "display_name": "Python 3",
   "language": "python",
   "name": "python3"
  },
  "language_info": {
   "codemirror_mode": {
    "name": "ipython",
    "version": 3
   },
   "file_extension": ".py",
   "mimetype": "text/x-python",
   "name": "python",
   "nbconvert_exporter": "python",
   "pygments_lexer": "ipython3",
   "version": "3.6.4"
  }
 },
 "nbformat": 4,
 "nbformat_minor": 2
}
